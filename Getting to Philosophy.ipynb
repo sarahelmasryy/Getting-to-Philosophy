{
 "cells": [
  {
   "cell_type": "code",
   "execution_count": 1,
   "metadata": {},
   "outputs": [],
   "source": [
    "import time\n",
    "import urllib\n",
    "import bs4\n",
    "import requests"
   ]
  },
  {
   "cell_type": "code",
   "execution_count": 2,
   "metadata": {},
   "outputs": [
    {
     "name": "stdout",
     "output_type": "stream",
     "text": [
      "Enter your link please!https://en.wikipedia.org/wiki/Special:Random\n"
     ]
    }
   ],
   "source": [
    "start_url = input(\"Enter your link please!\")\n",
    "target_url = \"https://en.wikipedia.org/wiki/Wikipedia:Getting_to_Philosophy\""
   ]
  },
  {
   "cell_type": "code",
   "execution_count": 5,
   "metadata": {},
   "outputs": [],
   "source": [
    "def find_first(url):\n",
    "    response = requests.get(url)\n",
    "    html = response.text\n",
    "    soup = bs4.BeautifulSoup(html, \"html.parser\")\n",
    "    article_link = None\n",
    "\n",
    "    for element in soup.find_all(\"p\", recursive=True):\n",
    "        if element.find(\"a\", recursive= True):\n",
    "            article_link = element.find(\"a\", recursive=True).get('href')\n",
    "            break\n",
    "\n",
    "    if not article_link:\n",
    "        return\n",
    "\n",
    "    first_link = urllib.parse.urljoin('https://en.wikipedia.org/', article_link)\n",
    "\n",
    "    return first_link"
   ]
  },
  {
   "cell_type": "code",
   "execution_count": 7,
   "metadata": {},
   "outputs": [
    {
     "name": "stdout",
     "output_type": "stream",
     "text": [
      "https://en.wikipedia.org/wiki/Special:Random\n",
      "https://en.wikipedia.org/wiki/Unincorporated_area\n",
      "https://en.wikipedia.org/wiki/Real_property\n",
      "https://en.wikipedia.org/wiki/England\n",
      "https://en.wikipedia.org/wiki/Europe\n",
      "https://en.wikipedia.org/wiki/Continent\n",
      "https://en.wikipedia.org/wiki/Landmass\n",
      "https://en.wikipedia.org/wiki/Land\n",
      "https://en.wikipedia.org/wiki/Earth\n",
      "https://en.wikipedia.org/wiki/Planet\n",
      "https://en.wikipedia.org/wiki/Sun\n",
      "https://en.wikipedia.org/wiki/Star\n",
      "https://en.wikipedia.org/wiki/Astronomical_object\n",
      "https://en.wikipedia.org/wiki/Astronomy\n",
      "https://en.wikipedia.org/wiki/Greek_language\n",
      "an article without any outgoing Wikilink\n"
     ]
    }
   ],
   "source": [
    "def continue_crawl(search_history, target_url):\n",
    "    if search_history[-1] == target_url:\n",
    "        print(\"We've found the target article!\")\n",
    "        return False\n",
    "    elif search_history[-1] in search_history[:-1]:\n",
    "        print(\"stucking in a loop.\")\n",
    "        return False\n",
    "    else:\n",
    "        return True\n",
    "    \n",
    "\n",
    "article_chain = [start_url]\n",
    "\n",
    "while continue_crawl(article_chain, target_url):\n",
    "    print(article_chain[-1])\n",
    "\n",
    "    first_link = find_first(article_chain[-1])\n",
    "    if not first_link:\n",
    "        print(\"an article without any outgoing Wikilink\")\n",
    "        break\n",
    "\n",
    "    article_chain.append(first_link)\n",
    "\n",
    "    time.sleep(0.5)"
   ]
  },
  {
   "cell_type": "code",
   "execution_count": null,
   "metadata": {},
   "outputs": [],
   "source": []
  },
  {
   "cell_type": "code",
   "execution_count": null,
   "metadata": {},
   "outputs": [],
   "source": []
  },
  {
   "cell_type": "code",
   "execution_count": null,
   "metadata": {},
   "outputs": [],
   "source": []
  }
 ],
 "metadata": {
  "kernelspec": {
   "display_name": "Python 3",
   "language": "python",
   "name": "python3"
  },
  "language_info": {
   "codemirror_mode": {
    "name": "ipython",
    "version": 3
   },
   "file_extension": ".py",
   "mimetype": "text/x-python",
   "name": "python",
   "nbconvert_exporter": "python",
   "pygments_lexer": "ipython3",
   "version": "3.8.2"
  }
 },
 "nbformat": 4,
 "nbformat_minor": 4
}
